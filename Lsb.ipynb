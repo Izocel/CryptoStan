{
 "cells": [
  {
   "cell_type": "code",
   "execution_count": 2,
   "id": "e062c0d6",
   "metadata": {},
   "outputs": [],
   "source": [
    "import json\n",
    "import base64\n",
    "import requests\n",
    "from PIL import Image\n",
    "from datetime import datetime\n",
    "from cryptography.fernet import Fernet\n",
    "\n",
    "def generate_key():\n",
    "    return Fernet.generate_key()\n",
    "\n",
    "# Encrypt a message using symmetric encryption\n",
    "def encrypt_message(message, key):\n",
    "    cipher = Fernet(key)\n",
    "    return cipher.encrypt(message.encode())\n",
    "\n",
    "def decrypt_message(ciphertext, key):\n",
    "    cipher = Fernet(key)\n",
    "    return cipher.decrypt(ciphertext).decode()\n",
    "\n",
    "def get_current_location():\n",
    "    response = requests.get('https://ipinfo.io/json')\n",
    "    data = response.json()\n",
    "    city = data.get('city', '')\n",
    "    region = data.get('region', '')\n",
    "    country = data.get('country', '')\n",
    "    loc = data.get('loc', '')  # latitude,longitude\n",
    "    return {\n",
    "        'city': city,\n",
    "        'region': region,\n",
    "        'country': country,\n",
    "        'coordinates': loc\n",
    "    }"
   ]
  },
  {
   "cell_type": "markdown",
   "id": "bd77bfee",
   "metadata": {},
   "source": [
    "## LSB Encoder"
   ]
  },
  {
   "cell_type": "code",
   "execution_count": 3,
   "id": "85e43674",
   "metadata": {},
   "outputs": [],
   "source": [
    "\"\"\"\n",
    "Encode a secret message into an image using LSB stenography.\n",
    "\n",
    "This function encrypts a given secret message with a specified key, encodes\n",
    "the encrypted message into a URL-safe Base64 string, and embeds it into the\n",
    "least significant bits of the image's pixels. The modified image is saved to\n",
    "the specified output path.\n",
    "\n",
    "Parameters:\n",
    "    img_path (str): The file path to the input image.\n",
    "    secret_message (str): The message to be encrypted and embedded.\n",
    "    key (str): The encryption key used to encrypt the secret message.\n",
    "    output_path (str): The file path to save the encoded image.\n",
    "\n",
    "Returns:\n",
    "    None\n",
    "\"\"\"\n",
    "def lsb_encode(img_path, secret_message, key, output_path):\n",
    "    # Encrypt message first\n",
    "    enc_bytes = encrypt_message(secret_message, key)\n",
    "    # For embedding, encode bytes to base64 string (to ensure printable chars)\n",
    "    enc_b64 = base64.urlsafe_b64encode(enc_bytes).decode()\n",
    "    # Add a null-terminator for extraction\n",
    "    enc_b64 += chr(0)\n",
    "\n",
    "    img = Image.open(img_path)\n",
    "    encoded = img.copy()\n",
    "    width, height = img.size\n",
    "    data = ''.join(f\"{ord(c):08b}\" for c in enc_b64)\n",
    "    idx = 0\n",
    "\n",
    "    for y in range(height):\n",
    "        for x in range(width):\n",
    "            pixel = list(img.getpixel((x, y)))\n",
    "            for n in range(3):  # R, G, B\n",
    "                if idx < len(data):\n",
    "                    pixel[n] = pixel[n] & ~1 | int(data[idx])\n",
    "                    idx += 1\n",
    "            encoded.putpixel((x, y), tuple(pixel))\n",
    "            if idx >= len(data):\n",
    "                encoded.save(output_path)\n",
    "                return"
   ]
  },
  {
   "cell_type": "markdown",
   "id": "51cf1e49",
   "metadata": {},
   "source": [
    "## LSB Decoder"
   ]
  },
  {
   "cell_type": "code",
   "execution_count": 4,
   "id": "13241180",
   "metadata": {},
   "outputs": [],
   "source": [
    "\"\"\"\n",
    "Decode a hidden message from an image using LSB steganography and decrypt it.\n",
    "\n",
    "This function extracts the least significant bits from each pixel of the image\n",
    "at the given path to reconstruct a binary message. The message is assumed to be\n",
    "encoded in base64 and is terminated by a null character. The base64-encoded\n",
    "message is then decoded to bytes and decrypted using the provided key.\n",
    "\n",
    "Args:\n",
    "    img_path (str): The file path to the image containing the hidden message.\n",
    "    key (str): The decryption key used to decrypt the extracted message.\n",
    "\n",
    "Returns:\n",
    "    str: The decrypted message extracted from the image.\n",
    "\"\"\"\n",
    "def lsb_decode(img_path, key):\n",
    "    img = Image.open(img_path)\n",
    "    width, height = img.size\n",
    "    bits = []\n",
    "    for y in range(height):\n",
    "        for x in range(width):\n",
    "            pixel = img.getpixel((x, y))\n",
    "            for n in range(3):\n",
    "                bits.append(str(pixel[n] & 1))\n",
    "    chars = [chr(int(''.join(bits[i:i+8]), 2)) for i in range(0, len(bits), 8)]\n",
    "    message = ''.join(chars)\n",
    "    # Extract message up to null-terminator\n",
    "    enc_b64 = message.split(chr(0))[0]\n",
    "    # Decode base64 to bytes\n",
    "    enc_bytes = base64.urlsafe_b64decode(enc_b64)\n",
    "    # Decrypt\n",
    "    return decrypt_message(enc_bytes, key)"
   ]
  },
  {
   "cell_type": "markdown",
   "id": "263e2a16",
   "metadata": {},
   "source": [
    "## Usage example"
   ]
  },
  {
   "cell_type": "code",
   "execution_count": 5,
   "id": "76f124ff",
   "metadata": {},
   "outputs": [
    {
     "name": "stdout",
     "output_type": "stream",
     "text": [
      "Generated encryption key (store this securely):\n",
      "uc8W6tsJyy-Ofkf8m-oylrieSz2uj81dFfj7YHsJqpY=\n",
      "\n",
      "Decoded message:\n",
      "{\n",
      "    \"message\": \"Very Secret Message\",\n",
      "    \"date\": \"2025-06-15T09:22:02.229444\",\n",
      "    \"location\": {\n",
      "        \"city\": \"Plessisville\",\n",
      "        \"region\": \"Quebec\",\n",
      "        \"country\": \"CA\",\n",
      "        \"coordinates\": \"46.2186,-71.7620\"\n",
      "    }\n",
      "}\n"
     ]
    }
   ],
   "source": [
    "inputPath = \"assets/images/raw.png\"\n",
    "outputPath = \"assets/images/lsb-encoded.png\"\n",
    "\n",
    "secret_data = {\n",
    "    \"message\": \"Very Secret Message\",\n",
    "    \"date\": datetime.now().isoformat(),\n",
    "    \"location\": get_current_location()\n",
    "}\n",
    "\n",
    "secret_message = json.dumps(secret_data, indent=4)\n",
    "\n",
    "key = generate_key()\n",
    "print(\"Generated encryption key (store this securely):\")\n",
    "print(key.decode())\n",
    "\n",
    "# To encode:\n",
    "lsb_encode(inputPath, secret_message, key, outputPath)\n",
    "\n",
    "# To decode:\n",
    "message = lsb_decode(outputPath, key)\n",
    "print(\"\\nDecoded message:\")\n",
    "print(secret_message)"
   ]
  }
 ],
 "metadata": {
  "kernelspec": {
   "display_name": "base",
   "language": "python",
   "name": "python3"
  },
  "language_info": {
   "codemirror_mode": {
    "name": "ipython",
    "version": 3
   },
   "file_extension": ".py",
   "mimetype": "text/x-python",
   "name": "python",
   "nbconvert_exporter": "python",
   "pygments_lexer": "ipython3",
   "version": "3.12.3"
  }
 },
 "nbformat": 4,
 "nbformat_minor": 5
}

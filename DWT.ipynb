{
 "cells": [
  {
   "cell_type": "code",
   "execution_count": 55,
   "id": "e062c0d6",
   "metadata": {},
   "outputs": [],
   "source": [
    "import json\n",
    "import base64\n",
    "import random\n",
    "import requests\n",
    "import numpy as np\n",
    "from PIL import Image\n",
    "from datetime import datetime\n",
    "from cryptography.fernet import Fernet\n",
    "\n",
    "import pywt\n",
    "\n",
    "def generate_key():\n",
    "    return Fernet.generate_key()\n",
    "\n",
    "# Encrypt a message using symmetric encryption\n",
    "def encrypt_message(message, key):\n",
    "    cipher = Fernet(key)\n",
    "    return cipher.encrypt(message.encode())\n",
    "\n",
    "def decrypt_message(ciphertext, key):\n",
    "    cipher = Fernet(key)\n",
    "    return cipher.decrypt(ciphertext).decode()\n",
    "\n",
    "def get_current_location():\n",
    "    response = requests.get('https://ipinfo.io/json')\n",
    "    data = response.json()\n",
    "    city = data.get('city', '')\n",
    "    region = data.get('region', '')\n",
    "    country = data.get('country', '')\n",
    "    loc = data.get('loc', '')  # latitude,longitude\n",
    "    return {\n",
    "        'city': city,\n",
    "        'region': region,\n",
    "        'country': country,\n",
    "        'coordinates': loc\n",
    "    }"
   ]
  },
  {
   "cell_type": "markdown",
   "id": "bd77bfee",
   "metadata": {},
   "source": [
    "## DWT Encoder"
   ]
  },
  {
   "cell_type": "code",
   "execution_count": 56,
   "id": "711d86e4",
   "metadata": {},
   "outputs": [],
   "source": [
    "\"\"\"\n",
    "Encodes a secret message into an image using DWT and saves the result.\n",
    "\n",
    "Args:\n",
    "    image_path (str): Path to the input image.\n",
    "    secret_message (str): The message to hide.\n",
    "    key (bytes): Encryption key for the message.\n",
    "    output_path (str): Path to save the encoded image.\n",
    "\"\"\"\n",
    "def dwt_encode(image_path, secret_message, key, output_path):\n",
    "    # Encrypt the message\n",
    "    encrypted_message = encrypt_message(secret_message, key)\n",
    "    # Convert encrypted message to base64 for easier embedding\n",
    "    encoded_message = base64.urlsafe_b64encode(encrypted_message).decode()\n",
    "\n",
    "    # Open image and convert to grayscale\n",
    "    image = Image.open(image_path).convert('L')\n",
    "    image_data = np.array(image)\n",
    "\n",
    "    # Perform DWT (Discrete Wavelet Transform)\n",
    "    coeffs = pywt.dwt2(image_data, 'haar')\n",
    "    cA, (cH, cV, cD) = coeffs\n",
    "\n",
    "    # Flatten cA and embed the message bits\n",
    "    flat_cA = cA.flatten()\n",
    "    # Convert to int for bitwise operations\n",
    "    flat_cA_int = flat_cA.astype(np.int32)\n",
    "    message_bits = ''.join(format(ord(char), '08b') for char in encoded_message)\n",
    "    for i, bit in enumerate(message_bits):\n",
    "        if i < len(flat_cA_int):\n",
    "            flat_cA_int[i] = (flat_cA_int[i] & ~1) | int(bit)\n",
    "\n",
    "    # Convert back to float for inverse DWT\n",
    "    cA_embedded = flat_cA_int.astype(cA.dtype).reshape(cA.shape)\n",
    "    coeffs_embedded = (cA_embedded, (cH, cV, cD))\n",
    "    watermarked = pywt.idwt2(coeffs_embedded, 'haar')\n",
    "    watermarked = np.clip(watermarked, 0, 255).astype(np.uint8)\n",
    "\n",
    "    # Save the encoded image\n",
    "    Image.fromarray(watermarked).save(output_path)"
   ]
  },
  {
   "cell_type": "markdown",
   "id": "51cf1e49",
   "metadata": {},
   "source": [
    "## DWT Decoder"
   ]
  },
  {
   "cell_type": "code",
   "execution_count": 57,
   "id": "0ebf268e",
   "metadata": {},
   "outputs": [],
   "source": [
    "\"\"\"\n",
    "Decodes a secret message from an image encoded with DWT.\n",
    "\n",
    "Args:\n",
    "    image_path (str): Path to the encoded image.\n",
    "    key (bytes): Encryption key for the message.\n",
    "\n",
    "Returns:\n",
    "    str: The decoded secret message.\n",
    "\"\"\"\n",
    "def dwt_decode(image_path, key):\n",
    "    # Open image and convert to grayscale\n",
    "    image = Image.open(image_path).convert('L')\n",
    "    image_data = np.array(image)\n",
    "\n",
    "    # Perform DWT (Discrete Wavelet Transform)\n",
    "    coeffs = pywt.dwt2(image_data, 'haar')\n",
    "    cA, (cH, cV, cD) = coeffs\n",
    "\n",
    "    # Flatten cA and extract the message bits\n",
    "    flat_cA = cA.flatten()\n",
    "    bits = [str(int(val) & 1) for val in flat_cA]\n",
    "\n",
    "    # Group bits into bytes and convert to characters\n",
    "    chars = []\n",
    "    for i in range(0, len(bits), 8):\n",
    "        byte = bits[i:i+8]\n",
    "        if len(byte) < 8:\n",
    "            break\n",
    "        chars.append(chr(int(''.join(byte), 2)))\n",
    "\n",
    "    # Join characters and try to decode base64\n",
    "    encoded_message = ''.join(chars)\n",
    "    try:\n",
    "        # Find the first padding character to trim extra bits\n",
    "        end_idx = encoded_message.find('=')\n",
    "        if end_idx != -1:\n",
    "            encoded_message = encoded_message[:end_idx+2]\n",
    "        encrypted_message = base64.urlsafe_b64decode(encoded_message)\n",
    "        message = decrypt_message(encrypted_message, key)\n",
    "        return message\n",
    "    except Exception as e:\n",
    "        return f\"Decoding failed: {e}\""
   ]
  },
  {
   "cell_type": "markdown",
   "id": "263e2a16",
   "metadata": {},
   "source": [
    "## Usage example"
   ]
  },
  {
   "cell_type": "code",
   "execution_count": 58,
   "id": "76f124ff",
   "metadata": {},
   "outputs": [
    {
     "name": "stdout",
     "output_type": "stream",
     "text": [
      "Generated encryption key (store this securely):\n",
      "csx_74JkIOPd9-fVX4XgHYS2j6H73It3OroqLt45HqQ=\n",
      "\n",
      "Decoded message:\n",
      "Decoding failed: string argument should contain only ASCII characters\n"
     ]
    }
   ],
   "source": [
    "inputPath = \"assets/images/raw.png\"\n",
    "outputPath = \"assets/images/dwt-encoded.png\"\n",
    "\n",
    "secret_data = {\n",
    "    \"message\": \"Very Secret Message\",\n",
    "    \"date\": datetime.now().isoformat(),\n",
    "    \"location\": get_current_location()\n",
    "}\n",
    "\n",
    "secret_message = json.dumps(secret_data, indent=4)\n",
    "\n",
    "key = generate_key()\n",
    "print(\"Generated encryption key (store this securely):\")\n",
    "print(key.decode())\n",
    "\n",
    "# To encode:\n",
    "dwt_encode(inputPath, secret_message, key, outputPath)\n",
    "\n",
    "# To decode:\n",
    "message = dwt_decode(outputPath, key)\n",
    "print(\"\\nDecoded message:\")\n",
    "print(message)"
   ]
  }
 ],
 "metadata": {
  "kernelspec": {
   "display_name": "base",
   "language": "python",
   "name": "python3"
  },
  "language_info": {
   "codemirror_mode": {
    "name": "ipython",
    "version": 3
   },
   "file_extension": ".py",
   "mimetype": "text/x-python",
   "name": "python",
   "nbconvert_exporter": "python",
   "pygments_lexer": "ipython3",
   "version": "3.12.3"
  }
 },
 "nbformat": 4,
 "nbformat_minor": 5
}
